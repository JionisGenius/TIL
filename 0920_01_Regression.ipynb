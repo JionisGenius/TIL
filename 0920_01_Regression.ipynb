{
  "nbformat": 4,
  "nbformat_minor": 0,
  "metadata": {
    "colab": {
      "provenance": [],
      "collapsed_sections": [],
      "include_colab_link": true
    },
    "kernelspec": {
      "name": "python3",
      "display_name": "Python 3"
    },
    "language_info": {
      "name": "python"
    },
    "accelerator": "GPU",
    "gpuClass": "standard"
  },
  "cells": [
    {
      "cell_type": "markdown",
      "metadata": {
        "id": "view-in-github",
        "colab_type": "text"
      },
      "source": [
        "<a href=\"https://colab.research.google.com/github/JionisGenius/TIL/blob/main/0920_01_Regression.ipynb\" target=\"_parent\"><img src=\"https://colab.research.google.com/assets/colab-badge.svg\" alt=\"Open In Colab\"/></a>"
      ]
    },
    {
      "cell_type": "markdown",
      "source": [
        "# Regression w/ California Housing"
      ],
      "metadata": {
        "id": "Mc8idirAKixK"
      }
    },
    {
      "cell_type": "markdown",
      "source": [
        "### import"
      ],
      "metadata": {
        "id": "EhaER8zIKnpJ"
      }
    },
    {
      "cell_type": "code",
      "source": [
        "import numpy as np\n",
        "import pandas as pd\n",
        "\n",
        "import matplotlib.pyplot as plt\n",
        "import seaborn as sns"
      ],
      "metadata": {
        "id": "PO6pn_qsl_GA"
      },
      "execution_count": null,
      "outputs": []
    },
    {
      "cell_type": "code",
      "source": [
        "import torch\n",
        "import torch.nn as nn #class Model(nn.Module):\n",
        "from torch.utils.data import Dataset, DataLoader\n",
        "# Dataset: data를 컬럼 기준으로 쪼개줌 -> X, y \n",
        "# DataLoader: data를 row기준으로 Batch로 만들어줍니다. "
      ],
      "metadata": {
        "id": "0z20so1AxY9V"
      },
      "execution_count": null,
      "outputs": []
    },
    {
      "cell_type": "code",
      "source": [
        "from sklearn.datasets import fetch_california_housing\n",
        "\n",
        "ch =  fetch_california_housing()\n",
        "df = pd.DataFrame(ch.data, columns = ch.feature_names)\n",
        "df['target'] = ch.target\n",
        "print(df.shape)\n",
        "df.head()"
      ],
      "metadata": {
        "id": "nKZp9SOde8rS",
        "colab": {
          "base_uri": "https://localhost:8080/",
          "height": 224
        },
        "outputId": "0e572910-106b-4eb0-fc48-87d82bebea6b"
      },
      "execution_count": null,
      "outputs": [
        {
          "output_type": "stream",
          "name": "stdout",
          "text": [
            "(20640, 9)\n"
          ]
        },
        {
          "output_type": "execute_result",
          "data": {
            "text/plain": [
              "   MedInc  HouseAge  AveRooms  AveBedrms  Population  AveOccup  Latitude  \\\n",
              "0  8.3252      41.0  6.984127   1.023810       322.0  2.555556     37.88   \n",
              "1  8.3014      21.0  6.238137   0.971880      2401.0  2.109842     37.86   \n",
              "2  7.2574      52.0  8.288136   1.073446       496.0  2.802260     37.85   \n",
              "3  5.6431      52.0  5.817352   1.073059       558.0  2.547945     37.85   \n",
              "4  3.8462      52.0  6.281853   1.081081       565.0  2.181467     37.85   \n",
              "\n",
              "   Longitude  target  \n",
              "0    -122.23   4.526  \n",
              "1    -122.22   3.585  \n",
              "2    -122.24   3.521  \n",
              "3    -122.25   3.413  \n",
              "4    -122.25   3.422  "
            ],
            "text/html": [
              "\n",
              "  <div id=\"df-cad4556a-dfd4-4e59-8d07-4c49eced3075\">\n",
              "    <div class=\"colab-df-container\">\n",
              "      <div>\n",
              "<style scoped>\n",
              "    .dataframe tbody tr th:only-of-type {\n",
              "        vertical-align: middle;\n",
              "    }\n",
              "\n",
              "    .dataframe tbody tr th {\n",
              "        vertical-align: top;\n",
              "    }\n",
              "\n",
              "    .dataframe thead th {\n",
              "        text-align: right;\n",
              "    }\n",
              "</style>\n",
              "<table border=\"1\" class=\"dataframe\">\n",
              "  <thead>\n",
              "    <tr style=\"text-align: right;\">\n",
              "      <th></th>\n",
              "      <th>MedInc</th>\n",
              "      <th>HouseAge</th>\n",
              "      <th>AveRooms</th>\n",
              "      <th>AveBedrms</th>\n",
              "      <th>Population</th>\n",
              "      <th>AveOccup</th>\n",
              "      <th>Latitude</th>\n",
              "      <th>Longitude</th>\n",
              "      <th>target</th>\n",
              "    </tr>\n",
              "  </thead>\n",
              "  <tbody>\n",
              "    <tr>\n",
              "      <th>0</th>\n",
              "      <td>8.3252</td>\n",
              "      <td>41.0</td>\n",
              "      <td>6.984127</td>\n",
              "      <td>1.023810</td>\n",
              "      <td>322.0</td>\n",
              "      <td>2.555556</td>\n",
              "      <td>37.88</td>\n",
              "      <td>-122.23</td>\n",
              "      <td>4.526</td>\n",
              "    </tr>\n",
              "    <tr>\n",
              "      <th>1</th>\n",
              "      <td>8.3014</td>\n",
              "      <td>21.0</td>\n",
              "      <td>6.238137</td>\n",
              "      <td>0.971880</td>\n",
              "      <td>2401.0</td>\n",
              "      <td>2.109842</td>\n",
              "      <td>37.86</td>\n",
              "      <td>-122.22</td>\n",
              "      <td>3.585</td>\n",
              "    </tr>\n",
              "    <tr>\n",
              "      <th>2</th>\n",
              "      <td>7.2574</td>\n",
              "      <td>52.0</td>\n",
              "      <td>8.288136</td>\n",
              "      <td>1.073446</td>\n",
              "      <td>496.0</td>\n",
              "      <td>2.802260</td>\n",
              "      <td>37.85</td>\n",
              "      <td>-122.24</td>\n",
              "      <td>3.521</td>\n",
              "    </tr>\n",
              "    <tr>\n",
              "      <th>3</th>\n",
              "      <td>5.6431</td>\n",
              "      <td>52.0</td>\n",
              "      <td>5.817352</td>\n",
              "      <td>1.073059</td>\n",
              "      <td>558.0</td>\n",
              "      <td>2.547945</td>\n",
              "      <td>37.85</td>\n",
              "      <td>-122.25</td>\n",
              "      <td>3.413</td>\n",
              "    </tr>\n",
              "    <tr>\n",
              "      <th>4</th>\n",
              "      <td>3.8462</td>\n",
              "      <td>52.0</td>\n",
              "      <td>6.281853</td>\n",
              "      <td>1.081081</td>\n",
              "      <td>565.0</td>\n",
              "      <td>2.181467</td>\n",
              "      <td>37.85</td>\n",
              "      <td>-122.25</td>\n",
              "      <td>3.422</td>\n",
              "    </tr>\n",
              "  </tbody>\n",
              "</table>\n",
              "</div>\n",
              "      <button class=\"colab-df-convert\" onclick=\"convertToInteractive('df-cad4556a-dfd4-4e59-8d07-4c49eced3075')\"\n",
              "              title=\"Convert this dataframe to an interactive table.\"\n",
              "              style=\"display:none;\">\n",
              "        \n",
              "  <svg xmlns=\"http://www.w3.org/2000/svg\" height=\"24px\"viewBox=\"0 0 24 24\"\n",
              "       width=\"24px\">\n",
              "    <path d=\"M0 0h24v24H0V0z\" fill=\"none\"/>\n",
              "    <path d=\"M18.56 5.44l.94 2.06.94-2.06 2.06-.94-2.06-.94-.94-2.06-.94 2.06-2.06.94zm-11 1L8.5 8.5l.94-2.06 2.06-.94-2.06-.94L8.5 2.5l-.94 2.06-2.06.94zm10 10l.94 2.06.94-2.06 2.06-.94-2.06-.94-.94-2.06-.94 2.06-2.06.94z\"/><path d=\"M17.41 7.96l-1.37-1.37c-.4-.4-.92-.59-1.43-.59-.52 0-1.04.2-1.43.59L10.3 9.45l-7.72 7.72c-.78.78-.78 2.05 0 2.83L4 21.41c.39.39.9.59 1.41.59.51 0 1.02-.2 1.41-.59l7.78-7.78 2.81-2.81c.8-.78.8-2.07 0-2.86zM5.41 20L4 18.59l7.72-7.72 1.47 1.35L5.41 20z\"/>\n",
              "  </svg>\n",
              "      </button>\n",
              "      \n",
              "  <style>\n",
              "    .colab-df-container {\n",
              "      display:flex;\n",
              "      flex-wrap:wrap;\n",
              "      gap: 12px;\n",
              "    }\n",
              "\n",
              "    .colab-df-convert {\n",
              "      background-color: #E8F0FE;\n",
              "      border: none;\n",
              "      border-radius: 50%;\n",
              "      cursor: pointer;\n",
              "      display: none;\n",
              "      fill: #1967D2;\n",
              "      height: 32px;\n",
              "      padding: 0 0 0 0;\n",
              "      width: 32px;\n",
              "    }\n",
              "\n",
              "    .colab-df-convert:hover {\n",
              "      background-color: #E2EBFA;\n",
              "      box-shadow: 0px 1px 2px rgba(60, 64, 67, 0.3), 0px 1px 3px 1px rgba(60, 64, 67, 0.15);\n",
              "      fill: #174EA6;\n",
              "    }\n",
              "\n",
              "    [theme=dark] .colab-df-convert {\n",
              "      background-color: #3B4455;\n",
              "      fill: #D2E3FC;\n",
              "    }\n",
              "\n",
              "    [theme=dark] .colab-df-convert:hover {\n",
              "      background-color: #434B5C;\n",
              "      box-shadow: 0px 1px 3px 1px rgba(0, 0, 0, 0.15);\n",
              "      filter: drop-shadow(0px 1px 2px rgba(0, 0, 0, 0.3));\n",
              "      fill: #FFFFFF;\n",
              "    }\n",
              "  </style>\n",
              "\n",
              "      <script>\n",
              "        const buttonEl =\n",
              "          document.querySelector('#df-cad4556a-dfd4-4e59-8d07-4c49eced3075 button.colab-df-convert');\n",
              "        buttonEl.style.display =\n",
              "          google.colab.kernel.accessAllowed ? 'block' : 'none';\n",
              "\n",
              "        async function convertToInteractive(key) {\n",
              "          const element = document.querySelector('#df-cad4556a-dfd4-4e59-8d07-4c49eced3075');\n",
              "          const dataTable =\n",
              "            await google.colab.kernel.invokeFunction('convertToInteractive',\n",
              "                                                     [key], {});\n",
              "          if (!dataTable) return;\n",
              "\n",
              "          const docLinkHtml = 'Like what you see? Visit the ' +\n",
              "            '<a target=\"_blank\" href=https://colab.research.google.com/notebooks/data_table.ipynb>data table notebook</a>'\n",
              "            + ' to learn more about interactive tables.';\n",
              "          element.innerHTML = '';\n",
              "          dataTable['output_type'] = 'display_data';\n",
              "          await google.colab.output.renderOutput(dataTable, element);\n",
              "          const docLink = document.createElement('div');\n",
              "          docLink.innerHTML = docLinkHtml;\n",
              "          element.appendChild(docLink);\n",
              "        }\n",
              "      </script>\n",
              "    </div>\n",
              "  </div>\n",
              "  "
            ]
          },
          "metadata": {},
          "execution_count": 3
        }
      ]
    },
    {
      "cell_type": "code",
      "source": [
        "df.values.shape[0]"
      ],
      "metadata": {
        "colab": {
          "base_uri": "https://localhost:8080/"
        },
        "id": "JIpL0qaFciru",
        "outputId": "48c6339b-963e-4598-8d41-31fc3873e2f8"
      },
      "execution_count": null,
      "outputs": [
        {
          "output_type": "execute_result",
          "data": {
            "text/plain": [
              "20640"
            ]
          },
          "metadata": {},
          "execution_count": 6
        }
      ]
    },
    {
      "cell_type": "markdown",
      "source": [
        "### Dataset -> DataLoader"
      ],
      "metadata": {
        "id": "9lzMdxMpMtR-"
      }
    },
    {
      "cell_type": "code",
      "source": [
        "class MyDataset(Dataset):\n",
        "    def __init__(self, df = df):\n",
        "        self.df =df\n",
        "        self.x = df.iloc[:, :-1].values # numpy\n",
        "        self.y = df.iloc[:, -1:].values\n",
        "\n",
        "    # oveeride 1) __len__: 전체 row를 반환합니다.\n",
        "    def __len__(self):\n",
        "        return self.x.shape[0] # len(self.df)\n",
        "    \n",
        "    # oveeride 2) __getitem__: row를 index 특정\n",
        "    def __getitem__(self, index):\n",
        "        x = self.x[index]\n",
        "        y = self.y[index]\n",
        "        # return x, y # numpy arrary\n",
        "        return torch.tensor(x, dtype = torch.float), torch.tensor(y, dtype = torch.float)"
      ],
      "metadata": {
        "id": "RIMRU3twxrkR"
      },
      "execution_count": null,
      "outputs": []
    },
    {
      "cell_type": "code",
      "source": [
        "ds = MyDataset()\n",
        "sample =next(iter(ds))\n",
        "sample[0].shape, sample[1].shape"
      ],
      "metadata": {
        "colab": {
          "base_uri": "https://localhost:8080/"
        },
        "id": "wNQdfqnvdqXQ",
        "outputId": "2fd56be4-49f5-4ca5-87dd-e6b599697dcc"
      },
      "execution_count": null,
      "outputs": [
        {
          "output_type": "execute_result",
          "data": {
            "text/plain": [
              "(torch.Size([8]), torch.Size([1]))"
            ]
          },
          "metadata": {},
          "execution_count": 8
        }
      ]
    },
    {
      "cell_type": "code",
      "source": [
        "import os\n",
        "os.cpu_count()"
      ],
      "metadata": {
        "colab": {
          "base_uri": "https://localhost:8080/"
        },
        "id": "TiYRgDOWeJge",
        "outputId": "69eb6bdf-fa19-494b-ede4-2bac8d0c6209"
      },
      "execution_count": null,
      "outputs": [
        {
          "output_type": "execute_result",
          "data": {
            "text/plain": [
              "2"
            ]
          },
          "metadata": {},
          "execution_count": 9
        }
      ]
    },
    {
      "cell_type": "code",
      "source": [
        "def prepare_loaders(df = df, index = 15640, batch_size = 512):\n",
        "    # Train Valid Split\n",
        "    train = df[:index].reset_index(drop = True)\n",
        "    valid = df[index:].reset_index(drop = True)\n",
        "    # train, valid -> MyDataset(Dataset)-> train_ds, valid_ds\n",
        "    train_ds = MyDataset(df = train)\n",
        "    valid_ds = MyDataset(df = valid)\n",
        "    # train_ds, valid_ds ->DataLoader -> train_loader, valid_loader\n",
        "    train_loader = DataLoader(train_ds, batch_size = batch_size, shuffle = True, num_workers = 2, drop_last = True, pin_memory = True)\n",
        "    valid_loader = DataLoader(valid_ds, batch_size = batch_size, shuffle = False, num_workers = 2, drop_last = True, pin_memory = True)\n",
        "    print(\"DataLoader Completed\")\n",
        "    return train_loader, valid_loader\n",
        "\n",
        "train_loader, valid_loader =  prepare_loaders(df = df, index = 15640, batch_size = 512)"
      ],
      "metadata": {
        "colab": {
          "base_uri": "https://localhost:8080/"
        },
        "id": "iLLJcqmvbtPh",
        "outputId": "18dd7a14-9387-4c4b-e354-23cac6365b1c"
      },
      "execution_count": null,
      "outputs": [
        {
          "output_type": "stream",
          "name": "stdout",
          "text": [
            "DataLoader Completed\n"
          ]
        }
      ]
    },
    {
      "cell_type": "code",
      "source": [
        "sample =next(iter(train_loader))\n",
        "sample[0].shape, sample[1].shape"
      ],
      "metadata": {
        "id": "MJ-kHzHrvqJt",
        "colab": {
          "base_uri": "https://localhost:8080/"
        },
        "outputId": "c2f8b839-4259-4b65-bae8-4a3f01310f7d"
      },
      "execution_count": null,
      "outputs": [
        {
          "output_type": "execute_result",
          "data": {
            "text/plain": [
              "(torch.Size([512, 8]), torch.Size([512, 1]))"
            ]
          },
          "metadata": {},
          "execution_count": 11
        }
      ]
    },
    {
      "cell_type": "markdown",
      "source": [
        "### Model\n"
      ],
      "metadata": {
        "id": "XsqLfUbfKvtI"
      }
    },
    {
      "cell_type": "code",
      "source": [
        "device = torch.device(\"cuda:0\") if torch.cuda.is_available() else torch.device(\"cpu\") # 암기"
      ],
      "metadata": {
        "id": "fpEqtKNRyBkN"
      },
      "execution_count": null,
      "outputs": []
    },
    {
      "cell_type": "code",
      "source": [
        " torch.cuda.is_available()"
      ],
      "metadata": {
        "id": "vv91cDTLxRGz",
        "colab": {
          "base_uri": "https://localhost:8080/"
        },
        "outputId": "87f4a8a0-7934-41f2-d22f-798982595300"
      },
      "execution_count": null,
      "outputs": [
        {
          "output_type": "execute_result",
          "data": {
            "text/plain": [
              "True"
            ]
          },
          "metadata": {},
          "execution_count": 12
        }
      ]
    },
    {
      "cell_type": "code",
      "source": [
        "a = torch.tensor([1, 2, 3])\n",
        "a"
      ],
      "metadata": {
        "colab": {
          "base_uri": "https://localhost:8080/"
        },
        "id": "WALF79UPfD0a",
        "outputId": "e0693b7d-c763-40b8-fb32-e02e611dc48c"
      },
      "execution_count": null,
      "outputs": [
        {
          "output_type": "execute_result",
          "data": {
            "text/plain": [
              "tensor([1, 2, 3])"
            ]
          },
          "metadata": {},
          "execution_count": 13
        }
      ]
    },
    {
      "cell_type": "code",
      "source": [
        "b = a.to(device)\n",
        "b"
      ],
      "metadata": {
        "colab": {
          "base_uri": "https://localhost:8080/"
        },
        "id": "BI4D9uUKfDpl",
        "outputId": "9e5175d2-db39-4766-c812-6f5eca37138f"
      },
      "execution_count": null,
      "outputs": [
        {
          "output_type": "execute_result",
          "data": {
            "text/plain": [
              "tensor([1, 2, 3], device='cuda:0')"
            ]
          },
          "metadata": {},
          "execution_count": 16
        }
      ]
    },
    {
      "cell_type": "code",
      "source": [
        "c = a.cuda()\n",
        "c"
      ],
      "metadata": {
        "colab": {
          "base_uri": "https://localhost:8080/"
        },
        "id": "LxemAqJOfDnL",
        "outputId": "fe655f27-4adb-4052-b8ea-d45e41698ed7"
      },
      "execution_count": null,
      "outputs": [
        {
          "output_type": "execute_result",
          "data": {
            "text/plain": [
              "tensor([1, 2, 3], device='cuda:0')"
            ]
          },
          "metadata": {},
          "execution_count": 17
        }
      ]
    },
    {
      "cell_type": "code",
      "source": [
        "class Model(nn.Module):\n",
        "    def __init__(self, input_dim = 8, output_dim = 1):\n",
        "        super().__init__()\n",
        "        # frame 만 정함\n",
        "        # input: |bs, 8|\n",
        "        # 1)\n",
        "        self.fc1 = nn.Linear(8, 5)  #|(bs, 8)| -> |(bs, 5)|\n",
        "        self.relu1 = nn.ReLU()      #|(bs, 5)| -> |(bs, 5)|\n",
        "        self.fc2 = nn.Linear(5, 4)  #|(bs, 5)| -> |(bs, 4)|\n",
        "        self.relu2 =nn.ReLU()       #|(bs, 4)| -> |(bs, 4)|\n",
        "        self.last = nn.Linear(4, 1) #|(bs, 4)| -> |(bs, 1)|\n",
        "\n",
        "        # 2)\n",
        "        # self.seq = nn.Sequential(nn.Linear(8, 4), nn.ReLU(), nn.Linear(4, 1))\n",
        "\n",
        "    # nn.Module 상속시 override \n",
        "    def forward(self, x):\n",
        "        # 1)\n",
        "        # x -> input -> shape |bs, 8|\n",
        "        x = self.relu1(self.fc1(x))\n",
        "        x = self.relu2(self.fc2(x))\n",
        "        output = self.last(x)\n",
        "        # 2)\n",
        "        # output = self.seq(x)\n",
        "        return output\n",
        "\n"
      ],
      "metadata": {
        "id": "KVY7QV87fDks"
      },
      "execution_count": null,
      "outputs": []
    },
    {
      "cell_type": "code",
      "source": [
        "model = Model(8, 1).to(device)\n",
        "model"
      ],
      "metadata": {
        "colab": {
          "base_uri": "https://localhost:8080/"
        },
        "id": "5IEh3FdDfDh-",
        "outputId": "18bd9eea-04fd-45b6-9259-858b40327197"
      },
      "execution_count": null,
      "outputs": [
        {
          "output_type": "execute_result",
          "data": {
            "text/plain": [
              "Model(\n",
              "  (fc1): Linear(in_features=8, out_features=5, bias=True)\n",
              "  (relu1): ReLU()\n",
              "  (fc2): Linear(in_features=5, out_features=4, bias=True)\n",
              "  (relu2): ReLU()\n",
              "  (last): Linear(in_features=4, out_features=1, bias=True)\n",
              ")"
            ]
          },
          "metadata": {},
          "execution_count": 19
        }
      ]
    },
    {
      "cell_type": "code",
      "source": [],
      "metadata": {
        "id": "VH8VscMKfDC4"
      },
      "execution_count": null,
      "outputs": []
    },
    {
      "cell_type": "markdown",
      "source": [
        "### Lossfunction, Optimizer"
      ],
      "metadata": {
        "id": "etL7qal6KyQ8"
      }
    },
    {
      "cell_type": "code",
      "source": [
        "loss_fn = nn.MSELoss().to(device)\n",
        "lr = 1e-3\n",
        "optimizer = torch.optim.Adam(model.parameters(), \n",
        "                            #  lr = lr\n",
        "                             )"
      ],
      "metadata": {
        "id": "ZZ0j0qz7xtio"
      },
      "execution_count": null,
      "outputs": []
    },
    {
      "cell_type": "code",
      "source": [],
      "metadata": {
        "id": "qRU8HoCyxtTF"
      },
      "execution_count": null,
      "outputs": []
    },
    {
      "cell_type": "markdown",
      "source": [
        "### train_one_epoch"
      ],
      "metadata": {
        "id": "dqLM3JwGK4KV"
      }
    },
    {
      "cell_type": "code",
      "source": [
        "# 1 epoch 기준\n",
        "def train_one_epoch(model = model, loss_fn = loss_fn, dataloader = train_loader, \n",
        "                    optimizer = optimizer, scheduler = None, device = device):\n",
        "    model.train() # model을 학습시키겠다는 의지표명\n",
        "    train_loss = 0\n",
        "    # dataloader= Train_loader\n",
        "    for data in dataloader:\n",
        "        x_i = data[0].to(device) # x_i.shape = |bs, 8|\n",
        "        y_true = data[1].to(device) # y_true = |bs, 1|\n",
        "        y_pred = model(x_i)\n",
        "        loss = loss_fn(y_pred, y_true)\n",
        "\n",
        "        # 딥러닝에서 가장 중요한 거\n",
        "        optimizer.zero_grad() # gradient chogihwa\n",
        "        loss.backward() # gradients for backpropagation\n",
        "        optimizer.step() # weight update\n",
        "        if scheduler is not None:\n",
        "            scheduler.step() # lr 갈구기\n",
        "        # epoch 당 train_loss 뱉어주기\n",
        "        train_loss += float(loss) # loss.item()\n",
        "    train_loss /= len(dataloader)\n",
        "    return train_loss\n"
      ],
      "metadata": {
        "id": "461aBcaoRCyG"
      },
      "execution_count": null,
      "outputs": []
    },
    {
      "cell_type": "code",
      "source": [
        "len(train_loader)"
      ],
      "metadata": {
        "id": "clwh8b3GK7R4",
        "colab": {
          "base_uri": "https://localhost:8080/"
        },
        "outputId": "7beee265-7436-4e79-bd4d-946f4b85218e"
      },
      "execution_count": null,
      "outputs": [
        {
          "output_type": "execute_result",
          "data": {
            "text/plain": [
              "30"
            ]
          },
          "metadata": {},
          "execution_count": 22
        }
      ]
    },
    {
      "cell_type": "markdown",
      "source": [
        "### valid one epoch"
      ],
      "metadata": {
        "id": "sK6Ui3l8K70p"
      }
    },
    {
      "cell_type": "code",
      "source": [
        "# 1 epoch 기준\n",
        "# model 성능 평가만\n",
        "\n",
        "@torch.no_grad()    # 학습을 안 시키겠다는 필수 의지표명 2\n",
        "def valid_one_epoch(model = model, loss_fn = loss_fn, dataloader = valid_loader, device = device):\n",
        "    model.eval() # model을 학습 안 시키겠다는 의지표명\n",
        "\n",
        "    valid_loss = 0\n",
        "    # 학습을 안 시키겠다는 필수 의지표명 1\n",
        "    with torch.no_grad():\n",
        "        # dataloader= valid_loader\n",
        "        for data in dataloader:\n",
        "            x_i = data[0].to(device) # x_i.shape = |bs, 8|\n",
        "            y_true = data[1].to(device) # y_true = |bs, 1|\n",
        "            y_pred = model(x_i)\n",
        "            loss = loss_fn(y_pred, y_true)\n",
        "\n",
        "            # epoch 당 train_loss 뱉어주기\n",
        "            valid_loss += float(loss) # loss.item()\n",
        "    valid_loss /= len(dataloader)\n",
        "    return valid_loss\n"
      ],
      "metadata": {
        "id": "7ojfTVvGxvyh"
      },
      "execution_count": null,
      "outputs": []
    },
    {
      "cell_type": "code",
      "source": [],
      "metadata": {
        "id": "WIwqj2bFxvsq"
      },
      "execution_count": null,
      "outputs": []
    },
    {
      "cell_type": "markdown",
      "source": [
        "### Run Train"
      ],
      "metadata": {
        "id": "YepXVegmK-m-"
      }
    },
    {
      "cell_type": "code",
      "source": [
        "import copy"
      ],
      "metadata": {
        "id": "hJ-hcw2Qo5D_"
      },
      "execution_count": null,
      "outputs": []
    },
    {
      "cell_type": "code",
      "source": [
        "def run_train(model = model, loss_fn = loss_fn, \n",
        "              train_loader =train_loader, valid_loader=valid_loader, \n",
        "              optimizer = optimizer, scheduler = None, device = device):\n",
        "    \n",
        "    n_epochs = 300    \n",
        "    train_hs, valid_hs = [], []\n",
        "    print_iter= 20\n",
        "    early_stop = 20\n",
        "    lowest_loss, lowest_epoch = np.inf, np.inf\n",
        "    best_model = None\n",
        "    result = dict()\n",
        "    for epoch in range(n_epochs):\n",
        "\n",
        "        train_loss = train_one_epoch(model = model, loss_fn = loss_fn, \n",
        "                                     dataloader = train_loader, optimizer = optimizer, \n",
        "                                     scheduler = None, device = device)\n",
        "        valid_loss = valid_one_epoch(model = model, loss_fn = loss_fn, \n",
        "                                     dataloader = valid_loader, device = device)\n",
        "        \n",
        "        # 줍줍\n",
        "        train_hs.append(train_loss)\n",
        "        valid_hs += [valid_loss]\n",
        "\n",
        "        # monitoring\n",
        "        if (epoch + 1) % print_iter ==0:\n",
        "            print(\"Epoch:%d, train_loss=%.3e, valid_loss=%.3e, lowest_loss=%.3e\" % (epoch+1, train_loss, valid_loss, lowest_loss))\n",
        "\n",
        "        # lowest loss 갱신\n",
        "        if valid_loss < lowest_loss:\n",
        "            lowest_loss = valid_loss\n",
        "            lowest_epoch = epoch\n",
        "            # 1) save\n",
        "            best_model = copy.deepcopy(model.state_dict())\n",
        "            # 2) save\n",
        "            torch.save(model.state_dict(), \"./model.pth\") # model.bin\n",
        "        else:\n",
        "            if early_stop > 0 and lowest_epoch + early_stop < epoch + 1:\n",
        "                print(\"넌 삽질 중\")\n",
        "                break\n",
        "                # 오버피팅 방지\n",
        "\n",
        "    print(\"The best Validation Loss=%.3e at %d Epoch\" % (lowest_loss, lowest_epoch))\n",
        "    \n",
        "    #model load\n",
        "    # 1) load\n",
        "    model.load_state_dict(best_model)\n",
        "    # 2) load\n",
        "    model.load_state_dict(torch.load(\"./model.pth\"))\n",
        "\n",
        "    result[\"Train Loss\"] = train_hs\n",
        "    result[\"Valid Loss\"] = valid_hs\n",
        "\n",
        "    return model, result\n",
        "\n"
      ],
      "metadata": {
        "id": "IICID9bRxxUo"
      },
      "execution_count": null,
      "outputs": []
    },
    {
      "cell_type": "code",
      "source": [
        "model, result = run_train(model = model, loss_fn = loss_fn, \n",
        "                        train_loader =train_loader, valid_loader=valid_loader, \n",
        "                        optimizer = optimizer, scheduler = None, device = device)\n",
        "    "
      ],
      "metadata": {
        "id": "YDrHCLOb0aoH",
        "colab": {
          "base_uri": "https://localhost:8080/"
        },
        "outputId": "e4eecb8e-103d-48cc-a477-d58e31bd725d"
      },
      "execution_count": null,
      "outputs": [
        {
          "output_type": "stream",
          "name": "stdout",
          "text": [
            "Epoch:20, train_loss=1.365e+00, valid_loss=2.075e+00, lowest_loss=2.104e+00\n",
            "Epoch:40, train_loss=1.300e+00, valid_loss=1.871e+00, lowest_loss=1.878e+00\n",
            "Epoch:60, train_loss=1.175e+00, valid_loss=1.714e+00, lowest_loss=1.729e+00\n",
            "Epoch:80, train_loss=8.757e-01, valid_loss=1.364e+00, lowest_loss=1.386e+00\n",
            "Epoch:100, train_loss=6.841e-01, valid_loss=1.084e+00, lowest_loss=1.087e+00\n",
            "Epoch:120, train_loss=6.162e-01, valid_loss=9.628e-01, lowest_loss=9.287e-01\n",
            "Epoch:140, train_loss=5.935e-01, valid_loss=9.073e-01, lowest_loss=9.072e-01\n",
            "Epoch:160, train_loss=5.863e-01, valid_loss=8.467e-01, lowest_loss=8.125e-01\n",
            "Epoch:180, train_loss=5.893e-01, valid_loss=8.410e-01, lowest_loss=7.969e-01\n",
            "넌 삽질 중\n",
            "The best Validation Loss=7.969e-01 at 172 Epoch\n"
          ]
        }
      ]
    },
    {
      "cell_type": "markdown",
      "source": [
        "### Visualization"
      ],
      "metadata": {
        "id": "IbJI6D5BLBRF"
      }
    },
    {
      "cell_type": "code",
      "source": [
        "## Train/Valid History\n",
        "plot_from = 0\n",
        "plt.figure(figsize=(20, 10))\n",
        "plt.title(\"Train/Valid Loss History\", fontsize = 20)\n",
        "plt.plot(\n",
        "    range(0, len(result['Train Loss'][plot_from:])), \n",
        "    result['Train Loss'][plot_from:], \n",
        "    label = 'Train Loss'\n",
        "    )\n",
        "\n",
        "plt.plot(\n",
        "    range(0, len(result['Valid Loss'][plot_from:])), \n",
        "    result['Valid Loss'][plot_from:], \n",
        "    label = 'Valid Loss'\n",
        "    )\n",
        "\n",
        "plt.legend()\n",
        "plt.yscale('log')\n",
        "plt.grid(True)\n",
        "plt.show()"
      ],
      "metadata": {
        "id": "JJCApV4legmt",
        "colab": {
          "base_uri": "https://localhost:8080/",
          "height": 612
        },
        "outputId": "a6f85dd9-6fe0-4a84-8e64-72af943051e1"
      },
      "execution_count": null,
      "outputs": [
        {
          "output_type": "display_data",
          "data": {
            "text/plain": [
              "<Figure size 1440x720 with 1 Axes>"
            ],
            "image/png": "[encoded data removed]"
          },
          "metadata": {
            "needs_background": "light"
          }
        }
      ]
    },
    {
      "cell_type": "code",
      "source": [
        " "
      ],
      "metadata": {
        "id": "vA9AINpZLFGl"
      },
      "execution_count": null,
      "outputs": []
    },
    {
      "cell_type": "code",
      "source": [
        "num = 1000\n",
        "print(f\"숫자: {num}\")"
      ],
      "metadata": {
        "id": "ZvP1AjVYLFA-",
        "colab": {
          "base_uri": "https://localhost:8080/"
        },
        "outputId": "da08633f-634f-4bc1-88e1-1e4d6c8d3769"
      },
      "execution_count": null,
      "outputs": [
        {
          "output_type": "stream",
          "name": "stdout",
          "text": [
            "숫자: 1000\n"
          ]
        }
      ]
    },
    {
      "cell_type": "code",
      "source": [
        "num = 1000\n",
        "print(\"숫자: %d\" % num)"
      ],
      "metadata": {
        "colab": {
          "base_uri": "https://localhost:8080/"
        },
        "id": "j0dkfBAPrHbM",
        "outputId": "a8cc5337-3cf7-4beb-e8a2-32bdacc86873"
      },
      "execution_count": null,
      "outputs": [
        {
          "output_type": "stream",
          "name": "stdout",
          "text": [
            "숫자: 1000\n"
          ]
        }
      ]
    },
    {
      "cell_type": "code",
      "source": [
        "num = 3.12313232\n",
        "print(\"숫자: %.3e\" % num)"
      ],
      "metadata": {
        "colab": {
          "base_uri": "https://localhost:8080/"
        },
        "id": "gyWtHZ7orRxD",
        "outputId": "52a89ea2-96e2-4717-90eb-b14d71e908c7"
      },
      "execution_count": null,
      "outputs": [
        {
          "output_type": "stream",
          "name": "stdout",
          "text": [
            "숫자: 3.123e+00\n"
          ]
        }
      ]
    },
    {
      "cell_type": "code",
      "source": [
        "num = 1000\n",
        "print(\"숫자: {}\".format(num))"
      ],
      "metadata": {
        "colab": {
          "base_uri": "https://localhost:8080/"
        },
        "id": "zU5PQFoSrKyk",
        "outputId": "6656e9ff-fc92-47e7-afbe-ba80ee26d075"
      },
      "execution_count": null,
      "outputs": [
        {
          "output_type": "stream",
          "name": "stdout",
          "text": [
            "숫자: 1000\n"
          ]
        }
      ]
    },
    {
      "cell_type": "code",
      "source": [
        "%ls"
      ],
      "metadata": {
        "colab": {
          "base_uri": "https://localhost:8080/"
        },
        "id": "iT2sstFtrOOr",
        "outputId": "76ffa957-2bee-4f3a-e040-97a7f973dbb0"
      },
      "execution_count": null,
      "outputs": [
        {
          "output_type": "stream",
          "name": "stdout",
          "text": [
            "model.pth  \u001b[0m\u001b[01;34msample_data\u001b[0m/\n"
          ]
        }
      ]
    },
    {
      "cell_type": "code",
      "source": [],
      "metadata": {
        "id": "0XrZ879Tr2HP"
      },
      "execution_count": null,
      "outputs": []
    }
  ]
}